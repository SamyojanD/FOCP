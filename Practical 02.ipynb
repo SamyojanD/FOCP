{
 "cells": [
  {
   "cell_type": "code",
   "execution_count": 1,
   "id": "46d4c6b5",
   "metadata": {},
   "outputs": [
    {
     "name": "stdout",
     "output_type": "stream",
     "text": [
      "The total is 100\n"
     ]
    }
   ],
   "source": [
    "total = 100\n",
    "\n",
    "print(\"The total is\", total)\n"
   ]
  },
  {
   "cell_type": "code",
   "execution_count": 2,
   "id": "68e86607",
   "metadata": {},
   "outputs": [
    {
     "name": "stdout",
     "output_type": "stream",
     "text": [
      "The total is now 199\n"
     ]
    }
   ],
   "source": [
    "total = total + 99\n",
    "print(\"The total is now\", total)\n"
   ]
  },
  {
   "cell_type": "code",
   "execution_count": 3,
   "id": "7bb09293",
   "metadata": {},
   "outputs": [
    {
     "name": "stdout",
     "output_type": "stream",
     "text": [
      "The total is 198\n",
      "The total is 792\n",
      "The total is 396.0\n"
     ]
    }
   ],
   "source": [
    "total = total - 1\n",
    "print(\"The total is\", total)\n",
    "\n",
    "total = total * 4\n",
    "print(\"The total is\", total)\n",
    "\n",
    "total = total / 2\n",
    "print(\"The total is\", total)"
   ]
  },
  {
   "cell_type": "markdown",
   "id": "73953806",
   "metadata": {},
   "source": [
    "Try extending the code below so that it creates a new variable called ‘average’, that is set to equal the average calculated from the two other variables."
   ]
  },
  {
   "cell_type": "code",
   "execution_count": 5,
   "id": "3c777bba",
   "metadata": {},
   "outputs": [
    {
     "name": "stdout",
     "output_type": "stream",
     "text": [
      "The average is 19.64\n"
     ]
    }
   ],
   "source": [
    "total = 98.2\n",
    "count = 5\n",
    "average = total / count\n",
    "print(\"The average is\", average)\n"
   ]
  },
  {
   "cell_type": "markdown",
   "id": "7f123743",
   "metadata": {},
   "source": [
    "Use the type() function to determine the type of each of the following values.\n",
    "False\n",
    "1000\n",
    "100.111\n",
    "\"Hello\"\n",
    "True\n",
    "100 / 5\n",
    "100 // 5"
   ]
  },
  {
   "cell_type": "code",
   "execution_count": 6,
   "id": "ed342cf8",
   "metadata": {},
   "outputs": [
    {
     "name": "stdout",
     "output_type": "stream",
     "text": [
      "<class 'bool'>\n",
      "<class 'int'>\n",
      "<class 'float'>\n",
      "<class 'str'>\n",
      "<class 'bool'>\n",
      "<class 'float'>\n",
      "<class 'int'>\n"
     ]
    }
   ],
   "source": [
    "print (type(False))\n",
    "print (type(1000))\n",
    "print (type(100.111))\n",
    "print (type(\"Hello\"))\n",
    "print (type(True))\n",
    "print (type(100 / 5))\n",
    "print (type(100 // 5))"
   ]
  },
  {
   "cell_type": "markdown",
   "id": "647f7c50",
   "metadata": {},
   "source": [
    "Input the following code and examine the result. What is the * operator doing to the given string operand?"
   ]
  },
  {
   "cell_type": "code",
   "execution_count": 7,
   "id": "02eb7185",
   "metadata": {},
   "outputs": [
    {
     "data": {
      "text/plain": [
       "'ABCABCABCABCABCABCABCABCABCABC'"
      ]
     },
     "execution_count": 7,
     "metadata": {},
     "output_type": "execute_result"
    }
   ],
   "source": [
    "\"ABC\" * 10"
   ]
  },
  {
   "cell_type": "markdown",
   "id": "a881883b",
   "metadata": {},
   "source": [
    "Write some code that calls the print() function several times, displaying your name, address and contact details. Add additional calls to the print() function which includes an argument that calculates and prints the length of your name, by calling the len() function."
   ]
  },
  {
   "cell_type": "code",
   "execution_count": 8,
   "id": "b37e131c",
   "metadata": {},
   "outputs": [
    {
     "name": "stdout",
     "output_type": "stream",
     "text": [
      "Samyojan\n",
      "Kathmandu\n",
      "9840250678\n",
      "The length of your name is  8\n"
     ]
    }
   ],
   "source": [
    "print (\"Samyojan\")\n",
    "print (\"Kathmandu\")\n",
    "print (\"9840250678\")\n",
    "print (\"The length of your name is \", len(\"Samyojan\"))"
   ]
  },
  {
   "cell_type": "markdown",
   "id": "f1964e34",
   "metadata": {},
   "source": [
    "Input the following code, when asked to type your age input a numeric value such as 20. Does this program work? If not, why?"
   ]
  },
  {
   "cell_type": "code",
   "execution_count": 9,
   "id": "c3c81e4b",
   "metadata": {},
   "outputs": [
    {
     "name": "stdout",
     "output_type": "stream",
     "text": [
      "Enter your age 19\n"
     ]
    },
    {
     "ename": "TypeError",
     "evalue": "can only concatenate str (not \"int\") to str",
     "output_type": "error",
     "traceback": [
      "\u001b[0;31m---------------------------------------------------------------------------\u001b[0m",
      "\u001b[0;31mTypeError\u001b[0m                                 Traceback (most recent call last)",
      "\u001b[0;32m<ipython-input-9-17ca26d73445>\u001b[0m in \u001b[0;36m<module>\u001b[0;34m\u001b[0m\n\u001b[1;32m      1\u001b[0m \u001b[0mage\u001b[0m \u001b[0;34m=\u001b[0m \u001b[0minput\u001b[0m\u001b[0;34m(\u001b[0m\u001b[0;34m\"Enter your age \"\u001b[0m\u001b[0;34m)\u001b[0m\u001b[0;34m\u001b[0m\u001b[0;34m\u001b[0m\u001b[0m\n\u001b[0;32m----> 2\u001b[0;31m \u001b[0mprint\u001b[0m\u001b[0;34m(\u001b[0m\u001b[0;34m\"in one year your age will be\"\u001b[0m\u001b[0;34m,\u001b[0m \u001b[0mage\u001b[0m \u001b[0;34m+\u001b[0m \u001b[0;36m1\u001b[0m\u001b[0;34m)\u001b[0m\u001b[0;34m\u001b[0m\u001b[0;34m\u001b[0m\u001b[0m\n\u001b[0m",
      "\u001b[0;31mTypeError\u001b[0m: can only concatenate str (not \"int\") to str"
     ]
    }
   ],
   "source": [
    "age = input(\"Enter your age \")\n",
    "print(\"in one year your age will be\", age + 1)"
   ]
  },
  {
   "cell_type": "markdown",
   "id": "27838c65",
   "metadata": {},
   "source": [
    "Write a program that prompts the user to input two numeric values. Once the values have been input display the product of these values, using the multiply (*) operator."
   ]
  },
  {
   "cell_type": "code",
   "execution_count": 12,
   "id": "64495af1",
   "metadata": {},
   "outputs": [
    {
     "name": "stdout",
     "output_type": "stream",
     "text": [
      "Enter a number5\n",
      "Enter a number10\n",
      "The product of the two numbers is  50\n"
     ]
    }
   ],
   "source": [
    "a = int(input(\"Enter a number\"))\n",
    "b = int(input(\"Enter a number\"))\n",
    "print (\"The product of the two numbers is \", a * b)"
   ]
  },
  {
   "cell_type": "markdown",
   "id": "335615e3",
   "metadata": {},
   "source": [
    "Try writing the above assignment statement but only use double quotes instead of single quotes as the string delimiter. What is the result?"
   ]
  },
  {
   "cell_type": "code",
   "execution_count": 13,
   "id": "2ba2cfff",
   "metadata": {},
   "outputs": [
    {
     "ename": "SyntaxError",
     "evalue": "invalid syntax (<ipython-input-13-3c65c59a030b>, line 1)",
     "output_type": "error",
     "traceback": [
      "\u001b[0;36m  File \u001b[0;32m\"<ipython-input-13-3c65c59a030b>\"\u001b[0;36m, line \u001b[0;32m1\u001b[0m\n\u001b[0;31m    comment = \"I would have \"thought\" you knew better!\"\u001b[0m\n\u001b[0m                             ^\u001b[0m\n\u001b[0;31mSyntaxError\u001b[0m\u001b[0;31m:\u001b[0m invalid syntax\n"
     ]
    }
   ],
   "source": [
    "comment = \"I would have \"thought\" you knew better!\""
   ]
  },
  {
   "cell_type": "markdown",
   "id": "0243b0dd",
   "metadata": {},
   "source": [
    "Write some code that calls a print() function, which takes a single string argument that results in the following text being displayed (exactly as shown)."
   ]
  },
  {
   "cell_type": "code",
   "execution_count": 14,
   "id": "07feec90",
   "metadata": {},
   "outputs": [
    {
     "name": "stdout",
     "output_type": "stream",
     "text": [
      "This text includes characters such as '\\' '\"' and \"'\",\n",
      "\tThis is a new line that starts with a tab\n",
      "\t\tThis new line starts with two tabs\n"
     ]
    }
   ],
   "source": [
    "print (\"This text includes characters such as '\\\\' '\\\"' and \\\"'\\\",\\n\\tThis is a new line that starts with a tab\\n\\t\\tThis new line starts with two tabs\")"
   ]
  },
  {
   "cell_type": "markdown",
   "id": "a15d6900",
   "metadata": {},
   "source": [
    "Write some code that calls a print() function, which takes a single string argument that results in the following text being displayed (exactly as shown)."
   ]
  },
  {
   "cell_type": "code",
   "execution_count": 27,
   "id": "7c39ff61",
   "metadata": {},
   "outputs": [
    {
     "name": "stdout",
     "output_type": "stream",
     "text": [
      "\\\\\\\\\\\\\\\\\\\\\\\\\\\\\\\\\\\\\\\\\\\\\\\\\\\\\\\n",
      "Hello there!\n",
      "\\\\\\\\\\\\\\\\\\\\\\\\\\\\\\\\\\\\\\\\\\\\\\\\\\\\\\\n"
     ]
    }
   ],
   "source": [
    "print(\"\"\"\\\\\\\\\\\\\\\\\\\\\\\\\\\\\\\\\\\\\\\\\\\\\\\\\\\\\\\\\\\\\\\\\\\\\\\\\\\\\\\\\\\\\\\\\\\\\\\\\\\\\\\\\\\\\n",
    "Hello there!\n",
    "\\\\\\\\\\\\\\\\\\\\\\\\\\\\\\\\\\\\\\\\\\\\\\\\\\\\\\\\\\\\\\\\\\\\\\\\\\\\\\\\\\\\\\\\\\\\\\\\\\\\\\\\\\\\\"\"\")"
   ]
  },
  {
   "cell_type": "markdown",
   "id": "583f4f33",
   "metadata": {},
   "source": [
    "Write some code that calls a print() function, which takes a single string argument that results in the following text being displayed (exactly as shown). Do this without the use of any escape sequences."
   ]
  },
  {
   "cell_type": "code",
   "execution_count": 28,
   "id": "41ccb9a4",
   "metadata": {},
   "outputs": [
    {
     "name": "stdout",
     "output_type": "stream",
     "text": [
      "This text spans three lines,\n",
      "and includes both single ('),\n",
      "and double quotes (\").\n",
      "\n"
     ]
    }
   ],
   "source": [
    "print ('''This text spans three lines,\n",
    "and includes both single ('),\n",
    "and double quotes (\").\n",
    "''')"
   ]
  },
  {
   "cell_type": "markdown",
   "id": "1ad80c2f",
   "metadata": {},
   "source": [
    "Rewrite the above example, so that the third letter of the ‘surname’ is accessed rather than the first, then print this letter to the screen."
   ]
  },
  {
   "cell_type": "code",
   "execution_count": 29,
   "id": "f6f53acb",
   "metadata": {},
   "outputs": [
    {
     "name": "stdout",
     "output_type": "stream",
     "text": [
      "l\n"
     ]
    }
   ],
   "source": [
    "surname = \"Palin\"\n",
    "initial = surname[2]\n",
    "print (initial)"
   ]
  },
  {
   "cell_type": "markdown",
   "id": "2b408549",
   "metadata": {},
   "source": [
    "Rewrite the above example, so that the tenth letter of the ‘surname’ is accessed, and note the result."
   ]
  },
  {
   "cell_type": "code",
   "execution_count": 30,
   "id": "6bf9aff7",
   "metadata": {},
   "outputs": [
    {
     "ename": "IndexError",
     "evalue": "string index out of range",
     "output_type": "error",
     "traceback": [
      "\u001b[0;31m---------------------------------------------------------------------------\u001b[0m",
      "\u001b[0;31mIndexError\u001b[0m                                Traceback (most recent call last)",
      "\u001b[0;32m<ipython-input-30-a79f0bf31882>\u001b[0m in \u001b[0;36m<module>\u001b[0;34m\u001b[0m\n\u001b[1;32m      1\u001b[0m \u001b[0msurname\u001b[0m \u001b[0;34m=\u001b[0m \u001b[0;34m\"Palin\"\u001b[0m\u001b[0;34m\u001b[0m\u001b[0;34m\u001b[0m\u001b[0m\n\u001b[0;32m----> 2\u001b[0;31m \u001b[0minitial\u001b[0m \u001b[0;34m=\u001b[0m \u001b[0msurname\u001b[0m\u001b[0;34m[\u001b[0m\u001b[0;36m9\u001b[0m\u001b[0;34m]\u001b[0m\u001b[0;34m\u001b[0m\u001b[0;34m\u001b[0m\u001b[0m\n\u001b[0m\u001b[1;32m      3\u001b[0m \u001b[0mprint\u001b[0m \u001b[0;34m(\u001b[0m\u001b[0minitial\u001b[0m\u001b[0;34m)\u001b[0m\u001b[0;34m\u001b[0m\u001b[0;34m\u001b[0m\u001b[0m\n",
      "\u001b[0;31mIndexError\u001b[0m: string index out of range"
     ]
    }
   ],
   "source": [
    "surname = \"Palin\"\n",
    "initial = surname[9]\n",
    "print (initial)"
   ]
  },
  {
   "cell_type": "markdown",
   "id": "d932ba06",
   "metadata": {},
   "source": [
    "Rewrite the above example, so that the second from last letter of the ‘surname’ is accessed rather than the last, then print this letter to the screen."
   ]
  },
  {
   "cell_type": "code",
   "execution_count": 31,
   "id": "e8a1ca2b",
   "metadata": {},
   "outputs": [
    {
     "name": "stdout",
     "output_type": "stream",
     "text": [
      "i\n"
     ]
    }
   ],
   "source": [
    "surname = \"Palin\"\n",
    "initial = surname[-2]\n",
    "print (initial)"
   ]
  },
  {
   "cell_type": "markdown",
   "id": "9ce18eee",
   "metadata": {},
   "source": [
    "Rewrite the above example, so that all of the characters of the ‘surname’ except the first character are sliced and then displayed on the screen."
   ]
  },
  {
   "cell_type": "code",
   "execution_count": 32,
   "id": "9ec03bb0",
   "metadata": {},
   "outputs": [
    {
     "name": "stdout",
     "output_type": "stream",
     "text": [
      "alin\n"
     ]
    }
   ],
   "source": [
    "surname = \"Palin\"\n",
    "initial = surname[1:]\n",
    "print (initial)"
   ]
  },
  {
   "cell_type": "markdown",
   "id": "4c93da36",
   "metadata": {},
   "source": [
    "Write code that accesses and prints all characters of the ‘surname’ except the last\n",
    "character."
   ]
  },
  {
   "cell_type": "code",
   "execution_count": 33,
   "id": "bfdccc26",
   "metadata": {},
   "outputs": [
    {
     "name": "stdout",
     "output_type": "stream",
     "text": [
      "Pali\n"
     ]
    }
   ],
   "source": [
    "surname = \"Palin\"\n",
    "initial = surname[:-1]\n",
    "print (initial)"
   ]
  },
  {
   "cell_type": "markdown",
   "id": "6082a26e",
   "metadata": {},
   "source": [
    "Write code that uses slicing to access then print the first four prime numbers defined within the ‘primes’ list given above. Note: you will have to input that list first for testing purposes."
   ]
  },
  {
   "cell_type": "code",
   "execution_count": 34,
   "id": "083d54b1",
   "metadata": {},
   "outputs": [
    {
     "name": "stdout",
     "output_type": "stream",
     "text": [
      "[2, 3, 5, 7]\n"
     ]
    }
   ],
   "source": [
    "primes = [2, 3, 5, 7, 13, 17, 19, 23, 29, 31, 37, 41, 43, 47]\n",
    "slice = primes[:4]\n",
    "print (slice)"
   ]
  },
  {
   "cell_type": "markdown",
   "id": "a984260f",
   "metadata": {},
   "source": [
    "Write code that uses slicing to insert two new names just before the final name within the  ‘names’ list."
   ]
  },
  {
   "cell_type": "code",
   "execution_count": 35,
   "id": "79933dbf",
   "metadata": {},
   "outputs": [],
   "source": [
    "names = [\"Tim\", \"Bill\", \"Graeme\"]\n",
    "names[2:0] = [\"John\" , \"Smith\"]"
   ]
  },
  {
   "cell_type": "code",
   "execution_count": 36,
   "id": "e29bd5d3",
   "metadata": {},
   "outputs": [
    {
     "name": "stdout",
     "output_type": "stream",
     "text": [
      "['Tim', 'Bill', 'John', 'Smith', 'Graeme']\n"
     ]
    }
   ],
   "source": [
    "print (names)"
   ]
  },
  {
   "cell_type": "markdown",
   "id": "e54c4652",
   "metadata": {},
   "source": [
    "Work out in your head what the contents of the ‘nums’ list would be, then check this using the Python interpreter."
   ]
  },
  {
   "cell_type": "code",
   "execution_count": 37,
   "id": "dd71a433",
   "metadata": {},
   "outputs": [
    {
     "name": "stdout",
     "output_type": "stream",
     "text": [
      "[1, 2, 3, 1, 2, 3, 1, 2, 3, 1, 2, 3, 1, 2, 3]\n"
     ]
    }
   ],
   "source": [
    "nums = [1,2,3] * 5\n",
    "print (nums)"
   ]
  }
 ],
 "metadata": {
  "kernelspec": {
   "display_name": "Python 3",
   "language": "python",
   "name": "python3"
  },
  "language_info": {
   "codemirror_mode": {
    "name": "ipython",
    "version": 3
   },
   "file_extension": ".py",
   "mimetype": "text/x-python",
   "name": "python",
   "nbconvert_exporter": "python",
   "pygments_lexer": "ipython3",
   "version": "3.8.8"
  }
 },
 "nbformat": 4,
 "nbformat_minor": 5
}
