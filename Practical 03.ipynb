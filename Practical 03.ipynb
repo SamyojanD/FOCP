{
 "cells": [
  {
   "cell_type": "code",
   "execution_count": 2,
   "id": "5667465d",
   "metadata": {},
   "outputs": [
    {
     "data": {
      "text/plain": [
       "True"
      ]
     },
     "execution_count": 2,
     "metadata": {},
     "output_type": "execute_result"
    }
   ],
   "source": [
    "10 < 100"
   ]
  },
  {
   "cell_type": "code",
   "execution_count": 3,
   "id": "cc5ade76",
   "metadata": {},
   "outputs": [
    {
     "data": {
      "text/plain": [
       "False"
      ]
     },
     "execution_count": 3,
     "metadata": {},
     "output_type": "execute_result"
    }
   ],
   "source": [
    "100 != 100"
   ]
  },
  {
   "cell_type": "code",
   "execution_count": 4,
   "id": "14a7ada2",
   "metadata": {},
   "outputs": [
    {
     "data": {
      "text/plain": [
       "True"
      ]
     },
     "execution_count": 4,
     "metadata": {},
     "output_type": "execute_result"
    }
   ],
   "source": [
    "50 >= 50"
   ]
  },
  {
   "cell_type": "code",
   "execution_count": 5,
   "id": "3531a89d",
   "metadata": {},
   "outputs": [
    {
     "data": {
      "text/plain": [
       "True"
      ]
     },
     "execution_count": 5,
     "metadata": {},
     "output_type": "execute_result"
    }
   ],
   "source": [
    "\"a\" < \"b\""
   ]
  },
  {
   "cell_type": "code",
   "execution_count": 6,
   "id": "0086509a",
   "metadata": {},
   "outputs": [
    {
     "data": {
      "text/plain": [
       "False"
      ]
     },
     "execution_count": 6,
     "metadata": {},
     "output_type": "execute_result"
    }
   ],
   "source": [
    "\"b\" < \"a\""
   ]
  },
  {
   "cell_type": "code",
   "execution_count": 7,
   "id": "ef378856",
   "metadata": {},
   "outputs": [
    {
     "data": {
      "text/plain": [
       "True"
      ]
     },
     "execution_count": 7,
     "metadata": {},
     "output_type": "execute_result"
    }
   ],
   "source": [
    "\"John\" < \"Terry\""
   ]
  },
  {
   "cell_type": "code",
   "execution_count": 8,
   "id": "76d1cc6a",
   "metadata": {},
   "outputs": [
    {
     "data": {
      "text/plain": [
       "False"
      ]
     },
     "execution_count": 8,
     "metadata": {},
     "output_type": "execute_result"
    }
   ],
   "source": [
    "\"john\" < \"Terry\""
   ]
  },
  {
   "cell_type": "code",
   "execution_count": 9,
   "id": "cca0124f",
   "metadata": {},
   "outputs": [
    {
     "data": {
      "text/plain": [
       "True"
      ]
     },
     "execution_count": 9,
     "metadata": {},
     "output_type": "execute_result"
    }
   ],
   "source": [
    "5 < 10.2"
   ]
  },
  {
   "cell_type": "code",
   "execution_count": 10,
   "id": "08516833",
   "metadata": {},
   "outputs": [
    {
     "ename": "TypeError",
     "evalue": "'<' not supported between instances of 'int' and 'str'",
     "output_type": "error",
     "traceback": [
      "\u001b[0;31m---------------------------------------------------------------------------\u001b[0m",
      "\u001b[0;31mTypeError\u001b[0m                                 Traceback (most recent call last)",
      "\u001b[0;32m<ipython-input-10-f6cf15ea1682>\u001b[0m in \u001b[0;36m<module>\u001b[0;34m\u001b[0m\n\u001b[0;32m----> 1\u001b[0;31m \u001b[0;36m5\u001b[0m \u001b[0;34m<\u001b[0m \u001b[0;34m\"Monty\"\u001b[0m\u001b[0;34m\u001b[0m\u001b[0;34m\u001b[0m\u001b[0m\n\u001b[0m",
      "\u001b[0;31mTypeError\u001b[0m: '<' not supported between instances of 'int' and 'str'"
     ]
    }
   ],
   "source": [
    "5 < \"Monty\""
   ]
  },
  {
   "cell_type": "code",
   "execution_count": 11,
   "id": "b997577d",
   "metadata": {},
   "outputs": [
    {
     "ename": "TypeError",
     "evalue": "'<' not supported between instances of 'int' and 'str'",
     "output_type": "error",
     "traceback": [
      "\u001b[0;31m---------------------------------------------------------------------------\u001b[0m",
      "\u001b[0;31mTypeError\u001b[0m                                 Traceback (most recent call last)",
      "\u001b[0;32m<ipython-input-11-c0107293aa58>\u001b[0m in \u001b[0;36m<module>\u001b[0;34m\u001b[0m\n\u001b[0;32m----> 1\u001b[0;31m \u001b[0;36m5\u001b[0m \u001b[0;34m<\u001b[0m \u001b[0;34m\"5\"\u001b[0m\u001b[0;34m\u001b[0m\u001b[0;34m\u001b[0m\u001b[0m\n\u001b[0m",
      "\u001b[0;31mTypeError\u001b[0m: '<' not supported between instances of 'int' and 'str'"
     ]
    }
   ],
   "source": [
    "5 < \"5\""
   ]
  },
  {
   "cell_type": "code",
   "execution_count": 12,
   "id": "e179a255",
   "metadata": {},
   "outputs": [
    {
     "data": {
      "text/plain": [
       "False"
      ]
     },
     "execution_count": 12,
     "metadata": {},
     "output_type": "execute_result"
    }
   ],
   "source": [
    "age = 30\n",
    "\n",
    "age >=18 and age <=65\n",
    "age <18 or age >65\n",
    "not age > 18"
   ]
  },
  {
   "cell_type": "code",
   "execution_count": 13,
   "id": "86553c1f",
   "metadata": {},
   "outputs": [
    {
     "data": {
      "text/plain": [
       "False"
      ]
     },
     "execution_count": 13,
     "metadata": {},
     "output_type": "execute_result"
    }
   ],
   "source": [
    "age = 30\n",
    "\n",
    "(age >=18 and age <=65) and (not age==30)\n"
   ]
  },
  {
   "cell_type": "code",
   "execution_count": 14,
   "id": "fe0c5168",
   "metadata": {},
   "outputs": [
    {
     "data": {
      "text/plain": [
       "False"
      ]
     },
     "execution_count": 14,
     "metadata": {},
     "output_type": "execute_result"
    }
   ],
   "source": [
    "weight = 69\n",
    "height = 169\n",
    "100 < weight and weight < 200\n",
    "\n",
    "height > 131 and height < 160\n"
   ]
  },
  {
   "cell_type": "code",
   "execution_count": 15,
   "id": "0fd74ef1",
   "metadata": {},
   "outputs": [
    {
     "data": {
      "text/plain": [
       "True"
      ]
     },
     "execution_count": 15,
     "metadata": {},
     "output_type": "execute_result"
    }
   ],
   "source": [
    "names = [\"Sam\", \"Pam\", \"Bam\", \"Ram\", \"Ham\", \"Fam\"]\n",
    "\"Fam\" in names"
   ]
  },
  {
   "cell_type": "code",
   "execution_count": 16,
   "id": "5aa50b08",
   "metadata": {},
   "outputs": [
    {
     "data": {
      "text/plain": [
       "True"
      ]
     },
     "execution_count": 16,
     "metadata": {},
     "output_type": "execute_result"
    }
   ],
   "source": [
    "\"Mark\" not in names"
   ]
  },
  {
   "cell_type": "code",
   "execution_count": 17,
   "id": "3cde4f05",
   "metadata": {},
   "outputs": [
    {
     "data": {
      "text/plain": [
       "True"
      ]
     },
     "execution_count": 17,
     "metadata": {},
     "output_type": "execute_result"
    }
   ],
   "source": [
    "message = \"Hello there, my name is Sam\"\n",
    "\"Hell\" in message"
   ]
  },
  {
   "cell_type": "markdown",
   "id": "7e17c0e6",
   "metadata": {},
   "source": [
    "Try writing an if statement that checks if someone is between the ages of 18 and 30 inclusive. If they are, then print a message saying \"you are still young!\""
   ]
  },
  {
   "cell_type": "code",
   "execution_count": 18,
   "id": "56b248de",
   "metadata": {},
   "outputs": [
    {
     "name": "stdout",
     "output_type": "stream",
     "text": [
      "Enter your age: 19\n",
      "You are still young!\n"
     ]
    }
   ],
   "source": [
    "age = int(input(\"Enter your age: \"))\n",
    "if 18 <= age <= 30:\n",
    "    print(\"You are still young!\")\n"
   ]
  },
  {
   "cell_type": "markdown",
   "id": "af5a16e5",
   "metadata": {},
   "source": [
    "Try writing an if statement similar to the last example that includes an extra elif clause to check ages between 30-40. Print a suitable message in the associated code block."
   ]
  },
  {
   "cell_type": "code",
   "execution_count": 19,
   "id": "355a8887",
   "metadata": {},
   "outputs": [
    {
     "name": "stdout",
     "output_type": "stream",
     "text": [
      "Enter your age: 33\n",
      "You are between 30 and 40\n"
     ]
    }
   ],
   "source": [
    "age = int(input(\"Enter your age: \"))\n",
    "if age > 100:\n",
    "    print(\"you are very old,\")\n",
    "    print(\"well done!\")\n",
    "elif age > 80:\n",
    "    print(\"you are fairly old\")\n",
    "    print(\"pretty good!\")\n",
    "elif age > 40:\n",
    "    print(\"you are middle aged\")\n",
    "    print(\"never mind\")\n",
    "elif 30 <= age <= 40:\n",
    "    print(\"You are between 30 and 40\")\n",
    "else:\n",
    "    print(\"you are not very old - yet\")\n"
   ]
  },
  {
   "cell_type": "markdown",
   "id": "7eb77826",
   "metadata": {},
   "source": [
    "Rewrite the above code that inputs a name then prints a message, but change the condition so it explicitly uses a Boolean expression. Use the example below to help."
   ]
  },
  {
   "cell_type": "code",
   "execution_count": 20,
   "id": "ce320ffb",
   "metadata": {},
   "outputs": [
    {
     "name": "stdout",
     "output_type": "stream",
     "text": [
      "Enter your name: Sam\n",
      "Hello, Sam! Your name is not empty.\n"
     ]
    }
   ],
   "source": [
    "name = input(\"Enter your name: \")\n",
    "if bool(name):\n",
    "    print(f\"Hello, {name}! Your name is not empty.\")\n",
    "else:\n",
    "    print(\"You didn't enter a name.\")"
   ]
  },
  {
   "cell_type": "markdown",
   "id": "99386eb6",
   "metadata": {},
   "source": [
    "Rewrite the code shown below as a single line Ternary expression."
   ]
  },
  {
   "cell_type": "code",
   "execution_count": 21,
   "id": "86e7186b",
   "metadata": {},
   "outputs": [
    {
     "name": "stdout",
     "output_type": "stream",
     "text": [
      "you are an adult\n"
     ]
    }
   ],
   "source": [
    "print(\"you are an adult\") if age >= 18 else print(\"you are not an adult, yet!\")"
   ]
  },
  {
   "cell_type": "markdown",
   "id": "65bc6daa",
   "metadata": {},
   "source": [
    "Input and execute a for loop that iterates over a list of four names, printing each of them to the screen."
   ]
  },
  {
   "cell_type": "code",
   "execution_count": 22,
   "id": "5b991cc5",
   "metadata": {},
   "outputs": [
    {
     "name": "stdout",
     "output_type": "stream",
     "text": [
      "Sam\n",
      "Pam\n",
      "Bam\n",
      "Ram\n"
     ]
    }
   ],
   "source": [
    "names = [\"Sam\", \"Pam\", \"Bam\", \"Ram\"]\n",
    "for name in names:\n",
    "    print(name)"
   ]
  },
  {
   "cell_type": "markdown",
   "id": "66165a35",
   "metadata": {},
   "source": [
    "Input and execute a for loop that uses a range() function to generate the following output:\n",
    "\n",
    "2 to the power of 2 = 4\n",
    "4 to the power of 4 = 256\n",
    "6 to the power of 6 = 46656\n",
    "8 to the power of 8 = 16777216\n",
    "10 to the power of 10 = 10000000000"
   ]
  },
  {
   "cell_type": "code",
   "execution_count": 24,
   "id": "c05fecea",
   "metadata": {},
   "outputs": [
    {
     "name": "stdout",
     "output_type": "stream",
     "text": [
      "2 to the power of 2 = 4\n",
      "4 to the power of 4 = 256\n",
      "6 to the power of 6 = 46656\n",
      "8 to the power of 8 = 16777216\n",
      "10 to the power of 10 = 10000000000\n"
     ]
    }
   ],
   "source": [
    "for exponent in range(2, 11, 2):\n",
    "    result = exponent ** exponent\n",
    "    print(f\"{exponent} to the power of {exponent} = {result}\")"
   ]
  },
  {
   "cell_type": "markdown",
   "id": "1e9bfa51",
   "metadata": {},
   "source": [
    "Input code containing a for loop that iterates over a list of numbers, printing a running total during each iteration. You may wish to first define the numbers list as follows:\n",
    "numbers = [10, 20 , 30, 90, 200, 30, 22, 11]"
   ]
  },
  {
   "cell_type": "code",
   "execution_count": 25,
   "id": "af1bbed0",
   "metadata": {},
   "outputs": [
    {
     "name": "stdout",
     "output_type": "stream",
     "text": [
      "Running total: 10\n",
      "Running total: 30\n",
      "Running total: 60\n",
      "Running total: 150\n",
      "Running total: 350\n",
      "Running total: 380\n",
      "Running total: 402\n",
      "Running total: 413\n"
     ]
    }
   ],
   "source": [
    "numbers = [10, 20, 30, 90, 200, 30, 22, 11]\n",
    "running_total = 0\n",
    "for number in numbers:\n",
    "    running_total += number\n",
    "    print(f\"Running total: {running_total}\")\n"
   ]
  },
  {
   "cell_type": "code",
   "execution_count": null,
   "id": "b02d6dff",
   "metadata": {},
   "outputs": [],
   "source": []
  }
 ],
 "metadata": {
  "kernelspec": {
   "display_name": "Python 3",
   "language": "python",
   "name": "python3"
  },
  "language_info": {
   "codemirror_mode": {
    "name": "ipython",
    "version": 3
   },
   "file_extension": ".py",
   "mimetype": "text/x-python",
   "name": "python",
   "nbconvert_exporter": "python",
   "pygments_lexer": "ipython3",
   "version": "3.8.8"
  }
 },
 "nbformat": 4,
 "nbformat_minor": 5
}
